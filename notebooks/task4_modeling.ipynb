{
 "cells": [
  {
   "cell_type": "code",
   "execution_count": 10,
   "id": "dc7a05c2",
   "metadata": {},
   "outputs": [
    {
     "name": "stdout",
     "output_type": "stream",
     "text": [
      "Defaulting to user installation because normal site-packages is not writeable\n",
      "Requirement already satisfied: scikit-learn in /home/feven/.local/lib/python3.10/site-packages (1.7.0)\n",
      "Requirement already satisfied: numpy>=1.22.0 in /home/feven/.local/lib/python3.10/site-packages (from scikit-learn) (2.2.6)\n",
      "Requirement already satisfied: scipy>=1.8.0 in /home/feven/.local/lib/python3.10/site-packages (from scikit-learn) (1.15.3)\n",
      "Requirement already satisfied: joblib>=1.2.0 in /home/feven/.local/lib/python3.10/site-packages (from scikit-learn) (1.5.1)\n",
      "Requirement already satisfied: threadpoolctl>=3.1.0 in /home/feven/.local/lib/python3.10/site-packages (from scikit-learn) (3.6.0)\n",
      "Note: you may need to restart the kernel to use updated packages.\n"
     ]
    }
   ],
   "source": [
    "pip install scikit-learn"
   ]
  },
  {
   "cell_type": "code",
   "execution_count": 5,
   "id": "6af428a1",
   "metadata": {},
   "outputs": [
    {
     "name": "stderr",
     "output_type": "stream",
     "text": [
      "/tmp/ipykernel_127493/3459715840.py:3: DtypeWarning: Columns (32,37) have mixed types. Specify dtype option on import or set low_memory=False.\n",
      "  df = pd.read_csv('../data/MachineLearningRating_v3.txt', sep='|')\n"
     ]
    }
   ],
   "source": [
    "import pandas as pd\n",
    "\n",
    "df = pd.read_csv('../data/MachineLearningRating_v3.txt', sep='|')"
   ]
  },
  {
   "cell_type": "code",
   "execution_count": 6,
   "id": "7cd9ac06",
   "metadata": {},
   "outputs": [],
   "source": [
    "from sklearn.model_selection import train_test_split\n",
    "from sklearn.preprocessing import LabelEncoder\n",
    "\n",
    "# Drop NA or fill\n",
    "df = df.dropna(subset=['TotalClaims', 'TotalPremium'])\n",
    "\n",
    "# Encode categoricals\n",
    "for col in df.select_dtypes('object').columns:\n",
    "    df[col] = LabelEncoder().fit_transform(df[col].astype(str))"
   ]
  },
  {
   "cell_type": "markdown",
   "id": "28de7d82",
   "metadata": {},
   "source": [
    "### Severity Model"
   ]
  },
  {
   "cell_type": "code",
   "execution_count": 7,
   "id": "793f4481",
   "metadata": {},
   "outputs": [],
   "source": [
    "# Filter only claimed\n",
    "claims = df[df['TotalClaims'] > 0]\n",
    "X = claims.drop(['TotalClaims'], axis=1)\n",
    "y = claims['TotalClaims']\n",
    "\n",
    "X_train, X_test, y_train, y_test = train_test_split(X, y, test_size=0.2, random_state=42)"
   ]
  },
  {
   "cell_type": "markdown",
   "id": "fe0e392a",
   "metadata": {},
   "source": [
    "### Build Models"
   ]
  },
  {
   "cell_type": "code",
   "execution_count": null,
   "id": "fa9d8ea1",
   "metadata": {},
   "outputs": [],
   "source": [
    "from sklearn.linear_model import LinearRegression\n",
    "from sklearn.ensemble import RandomForestRegressor\n",
    "from xgboost import XGBRegressor\n",
    "from sklearn.metrics import mean_squared_error, r2_score\n",
    "\n",
    "models = {\n",
    "    'Linear': LinearRegression(),\n",
    "    'RF': RandomForestRegressor(),\n",
    "    'XGB': XGBRegressor()\n",
    "}\n",
    "\n",
    "for name, model in models.items():\n",
    "    model.fit(X_train, y_train)\n",
    "    preds = model.predict(X_test)\n",
    "    rmse = mean_squared_error(y_test, preds, squared=False)\n",
    "    r2 = r2_score(y_test, preds)\n",
    "    print(f\"{name} - RMSE: {rmse}, R2: {r2}\")"
   ]
  },
  {
   "cell_type": "markdown",
   "id": "a37ad121",
   "metadata": {},
   "source": [
    "### SHAP Interpretation"
   ]
  },
  {
   "cell_type": "code",
   "execution_count": 33,
   "id": "e07817f0",
   "metadata": {},
   "outputs": [
    {
     "name": "stdout",
     "output_type": "stream",
     "text": [
      "Defaulting to user installation because normal site-packages is not writeable\n",
      "Requirement already satisfied: shap in /home/feven/.local/lib/python3.10/site-packages (0.48.0)\n",
      "Requirement already satisfied: numpy in /home/feven/.local/lib/python3.10/site-packages (from shap) (2.2.6)\n",
      "Requirement already satisfied: scipy in /home/feven/.local/lib/python3.10/site-packages (from shap) (1.15.3)\n",
      "Requirement already satisfied: scikit-learn in /home/feven/.local/lib/python3.10/site-packages (from shap) (1.7.0)\n",
      "Requirement already satisfied: pandas in /home/feven/.local/lib/python3.10/site-packages (from shap) (2.2.3)\n",
      "Requirement already satisfied: tqdm>=4.27.0 in /home/feven/.local/lib/python3.10/site-packages (from shap) (4.67.1)\n",
      "Requirement already satisfied: packaging>20.9 in /usr/lib/python3/dist-packages (from shap) (24.0)\n",
      "Requirement already satisfied: slicer==0.0.8 in /home/feven/.local/lib/python3.10/site-packages (from shap) (0.0.8)\n",
      "Requirement already satisfied: numba>=0.54 in /home/feven/.local/lib/python3.10/site-packages (from shap) (0.61.2)\n",
      "Requirement already satisfied: cloudpickle in /home/feven/.local/lib/python3.10/site-packages (from shap) (3.1.1)\n",
      "Requirement already satisfied: typing-extensions in /usr/lib/python3/dist-packages (from shap) (4.10.0)\n",
      "Requirement already satisfied: llvmlite<0.45,>=0.44.0dev0 in /home/feven/.local/lib/python3.10/site-packages (from numba>=0.54->shap) (0.44.0)\n",
      "Requirement already satisfied: python-dateutil>=2.8.2 in /home/feven/.local/lib/python3.10/site-packages (from pandas->shap) (2.9.0.post0)\n",
      "Requirement already satisfied: pytz>=2020.1 in /usr/lib/python3/dist-packages (from pandas->shap) (2024.1)\n",
      "Requirement already satisfied: tzdata>=2022.7 in /home/feven/.local/lib/python3.10/site-packages (from pandas->shap) (2025.2)\n",
      "Requirement already satisfied: joblib>=1.2.0 in /home/feven/.local/lib/python3.10/site-packages (from scikit-learn->shap) (1.5.1)\n",
      "Requirement already satisfied: threadpoolctl>=3.1.0 in /home/feven/.local/lib/python3.10/site-packages (from scikit-learn->shap) (3.6.0)\n",
      "Requirement already satisfied: six>=1.5 in /usr/lib/python3/dist-packages (from python-dateutil>=2.8.2->pandas->shap) (1.16.0)\n",
      "Note: you may need to restart the kernel to use updated packages.\n"
     ]
    }
   ],
   "source": [
    "pip install shap"
   ]
  },
  {
   "cell_type": "code",
   "execution_count": null,
   "id": "3a09b568",
   "metadata": {},
   "outputs": [],
   "source": [
    "import shap\n",
    "explainer = shap.Explainer(models['XGB'])\n",
    "shap_values = explainer(X_test)\n",
    "shap.plots.beeswarm(shap_values)"
   ]
  }
 ],
 "metadata": {
  "kernelspec": {
   "display_name": "Python 3",
   "language": "python",
   "name": "python3"
  },
  "language_info": {
   "codemirror_mode": {
    "name": "ipython",
    "version": 3
   },
   "file_extension": ".py",
   "mimetype": "text/x-python",
   "name": "python",
   "nbconvert_exporter": "python",
   "pygments_lexer": "ipython3",
   "version": "3.10.18"
  }
 },
 "nbformat": 4,
 "nbformat_minor": 5
}
